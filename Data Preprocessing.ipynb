{
 "cells": [
  {
   "cell_type": "code",
   "execution_count": 73,
   "id": "81e0a4b5-ede9-43ac-b422-610e150b8b0d",
   "metadata": {},
   "outputs": [],
   "source": [
    "import boto3\n",
    "import pandas as pd\n",
    "from io import BytesIO"
   ]
  },
  {
   "cell_type": "code",
   "execution_count": 74,
   "id": "f1ebd1b9-48f4-4e08-8a60-7fa39b8ad379",
   "metadata": {},
   "outputs": [],
   "source": [
    "# Define S3 bucket and file name\n",
    "bucket_name = \"bnetsacomplaintsdata\"\n",
    "file_name = \"Energie_Data_cleaned_short_no_PdB.xlsx\""
   ]
  },
  {
   "cell_type": "code",
   "execution_count": 75,
   "id": "d4a285ab-97eb-4031-be1d-9bb81b2ada31",
   "metadata": {
    "scrolled": true
   },
   "outputs": [],
   "source": [
    "df = pd.read_excel(file_name)"
   ]
  },
  {
   "cell_type": "code",
   "execution_count": 76,
   "id": "2ceba1a7-2d16-46d8-9763-6c4d08860e1a",
   "metadata": {},
   "outputs": [
    {
     "data": {
      "text/html": [
       "<div>\n",
       "<style scoped>\n",
       "    .dataframe tbody tr th:only-of-type {\n",
       "        vertical-align: middle;\n",
       "    }\n",
       "\n",
       "    .dataframe tbody tr th {\n",
       "        vertical-align: top;\n",
       "    }\n",
       "\n",
       "    .dataframe thead th {\n",
       "        text-align: right;\n",
       "    }\n",
       "</style>\n",
       "<table border=\"1\" class=\"dataframe\">\n",
       "  <thead>\n",
       "    <tr style=\"text-align: right;\">\n",
       "      <th></th>\n",
       "      <th>Unique_Id</th>\n",
       "      <th>Eingangskanal</th>\n",
       "      <th>cleaned_text</th>\n",
       "      <th>Original_Arbeitshilfe_Nummer</th>\n",
       "      <th>Value_Ebene1</th>\n",
       "      <th>Value_Ebene2</th>\n",
       "      <th>Value_Ebene3</th>\n",
       "      <th>Value_Ebene4</th>\n",
       "      <th>Value_Ebene5</th>\n",
       "      <th>Kurztext</th>\n",
       "      <th>Langtext</th>\n",
       "      <th>Code_Nummer_Ebene1</th>\n",
       "      <th>Code_Nummer_Ebene2</th>\n",
       "      <th>Code_Nummer_Ebene3</th>\n",
       "      <th>Code_Nummer_Ebene4</th>\n",
       "      <th>Code_Nummer_Ebene5</th>\n",
       "    </tr>\n",
       "  </thead>\n",
       "  <tbody>\n",
       "    <tr>\n",
       "      <th>0</th>\n",
       "      <td>27442516</td>\n",
       "      <td>email</td>\n",
       "      <td>Jahrgang 2022</td>\n",
       "      <td>VSE-151228130</td>\n",
       "      <td>Strom</td>\n",
       "      <td>Strompreise</td>\n",
       "      <td>keine Strompreisgenehmigung</td>\n",
       "      <td>NaN</td>\n",
       "      <td>NaN</td>\n",
       "      <td>NaN</td>\n",
       "      <td>Die Preisgestaltung für Strom und Erdgas unter...</td>\n",
       "      <td>1.0</td>\n",
       "      <td>11.0</td>\n",
       "      <td>111.0</td>\n",
       "      <td>NaN</td>\n",
       "      <td>NaN</td>\n",
       "    </tr>\n",
       "    <tr>\n",
       "      <th>1</th>\n",
       "      <td>27448449</td>\n",
       "      <td>email</td>\n",
       "      <td>Sehr geehrte Damen und Herren, Ich habe eine k...</td>\n",
       "      <td>VSE-151228130</td>\n",
       "      <td>Strom</td>\n",
       "      <td>Strompreise</td>\n",
       "      <td>keine Strompreisgenehmigung</td>\n",
       "      <td>NaN</td>\n",
       "      <td>NaN</td>\n",
       "      <td>NaN</td>\n",
       "      <td>Die Preisgestaltung für Strom und Erdgas unter...</td>\n",
       "      <td>1.0</td>\n",
       "      <td>11.0</td>\n",
       "      <td>111.0</td>\n",
       "      <td>NaN</td>\n",
       "      <td>NaN</td>\n",
       "    </tr>\n",
       "    <tr>\n",
       "      <th>2</th>\n",
       "      <td>27448426</td>\n",
       "      <td>email</td>\n",
       "      <td>Von: falk schuster &lt; Email_ersetzt &gt; Gesendet:...</td>\n",
       "      <td>VSE-151228130</td>\n",
       "      <td>Strom</td>\n",
       "      <td>Strompreise</td>\n",
       "      <td>keine Strompreisgenehmigung</td>\n",
       "      <td>NaN</td>\n",
       "      <td>NaN</td>\n",
       "      <td>NaN</td>\n",
       "      <td>Die Preisgestaltung für Strom und Erdgas unter...</td>\n",
       "      <td>1.0</td>\n",
       "      <td>11.0</td>\n",
       "      <td>111.0</td>\n",
       "      <td>NaN</td>\n",
       "      <td>NaN</td>\n",
       "    </tr>\n",
       "    <tr>\n",
       "      <th>3</th>\n",
       "      <td>27445803</td>\n",
       "      <td>email</td>\n",
       "      <td>Sehr geehrte Damen und Herren, als Kunde der F...</td>\n",
       "      <td>VSE-151228130</td>\n",
       "      <td>Strom</td>\n",
       "      <td>Strompreise</td>\n",
       "      <td>keine Strompreisgenehmigung</td>\n",
       "      <td>NaN</td>\n",
       "      <td>NaN</td>\n",
       "      <td>NaN</td>\n",
       "      <td>Die Preisgestaltung für Strom und Erdgas unter...</td>\n",
       "      <td>1.0</td>\n",
       "      <td>11.0</td>\n",
       "      <td>111.0</td>\n",
       "      <td>NaN</td>\n",
       "      <td>NaN</td>\n",
       "    </tr>\n",
       "    <tr>\n",
       "      <th>4</th>\n",
       "      <td>27445732</td>\n",
       "      <td>email</td>\n",
       "      <td>Hallo vorheriges Jahr wurde mein Vertrag bei E...</td>\n",
       "      <td>VSE-151228130</td>\n",
       "      <td>Strom</td>\n",
       "      <td>Strompreise</td>\n",
       "      <td>keine Strompreisgenehmigung</td>\n",
       "      <td>NaN</td>\n",
       "      <td>NaN</td>\n",
       "      <td>NaN</td>\n",
       "      <td>Die Preisgestaltung für Strom und Erdgas unter...</td>\n",
       "      <td>1.0</td>\n",
       "      <td>11.0</td>\n",
       "      <td>111.0</td>\n",
       "      <td>NaN</td>\n",
       "      <td>NaN</td>\n",
       "    </tr>\n",
       "  </tbody>\n",
       "</table>\n",
       "</div>"
      ],
      "text/plain": [
       "   Unique_Id Eingangskanal                                       cleaned_text  \\\n",
       "0   27442516         email                                      Jahrgang 2022   \n",
       "1   27448449         email  Sehr geehrte Damen und Herren, Ich habe eine k...   \n",
       "2   27448426         email  Von: falk schuster < Email_ersetzt > Gesendet:...   \n",
       "3   27445803         email  Sehr geehrte Damen und Herren, als Kunde der F...   \n",
       "4   27445732         email  Hallo vorheriges Jahr wurde mein Vertrag bei E...   \n",
       "\n",
       "  Original_Arbeitshilfe_Nummer Value_Ebene1 Value_Ebene2  \\\n",
       "0                VSE-151228130        Strom  Strompreise   \n",
       "1                VSE-151228130        Strom  Strompreise   \n",
       "2                VSE-151228130        Strom  Strompreise   \n",
       "3                VSE-151228130        Strom  Strompreise   \n",
       "4                VSE-151228130        Strom  Strompreise   \n",
       "\n",
       "                  Value_Ebene3 Value_Ebene4 Value_Ebene5 Kurztext  \\\n",
       "0  keine Strompreisgenehmigung          NaN          NaN      NaN   \n",
       "1  keine Strompreisgenehmigung          NaN          NaN      NaN   \n",
       "2  keine Strompreisgenehmigung          NaN          NaN      NaN   \n",
       "3  keine Strompreisgenehmigung          NaN          NaN      NaN   \n",
       "4  keine Strompreisgenehmigung          NaN          NaN      NaN   \n",
       "\n",
       "                                            Langtext  Code_Nummer_Ebene1  \\\n",
       "0  Die Preisgestaltung für Strom und Erdgas unter...                 1.0   \n",
       "1  Die Preisgestaltung für Strom und Erdgas unter...                 1.0   \n",
       "2  Die Preisgestaltung für Strom und Erdgas unter...                 1.0   \n",
       "3  Die Preisgestaltung für Strom und Erdgas unter...                 1.0   \n",
       "4  Die Preisgestaltung für Strom und Erdgas unter...                 1.0   \n",
       "\n",
       "   Code_Nummer_Ebene2  Code_Nummer_Ebene3  Code_Nummer_Ebene4  \\\n",
       "0                11.0               111.0                 NaN   \n",
       "1                11.0               111.0                 NaN   \n",
       "2                11.0               111.0                 NaN   \n",
       "3                11.0               111.0                 NaN   \n",
       "4                11.0               111.0                 NaN   \n",
       "\n",
       "   Code_Nummer_Ebene5  \n",
       "0                 NaN  \n",
       "1                 NaN  \n",
       "2                 NaN  \n",
       "3                 NaN  \n",
       "4                 NaN  "
      ]
     },
     "execution_count": 76,
     "metadata": {},
     "output_type": "execute_result"
    }
   ],
   "source": [
    "df.head()"
   ]
  },
  {
   "cell_type": "markdown",
   "id": "c82816fd-5c64-4dac-9121-5931e3683d64",
   "metadata": {},
   "source": [
    "## Pre-processing data for DBERTA"
   ]
  },
  {
   "cell_type": "code",
   "execution_count": 77,
   "id": "d3286bbb-75ed-4784-8245-72f2793eca2a",
   "metadata": {},
   "outputs": [],
   "source": [
    "## Copying dataset in new dataframe \n",
    "df_new = df.copy()"
   ]
  },
  {
   "cell_type": "code",
   "execution_count": 78,
   "id": "f7444f47-20e3-4fe3-a91f-08b415cead71",
   "metadata": {},
   "outputs": [
    {
     "data": {
      "text/plain": [
       "Index(['Unique_Id', 'Eingangskanal', 'cleaned_text',\n",
       "       'Original_Arbeitshilfe_Nummer', 'Value_Ebene1', 'Value_Ebene2',\n",
       "       'Value_Ebene3', 'Value_Ebene4', 'Value_Ebene5', 'Kurztext', 'Langtext',\n",
       "       'Code_Nummer_Ebene1', 'Code_Nummer_Ebene2', 'Code_Nummer_Ebene3',\n",
       "       'Code_Nummer_Ebene4', 'Code_Nummer_Ebene5'],\n",
       "      dtype='object')"
      ]
     },
     "execution_count": 78,
     "metadata": {},
     "output_type": "execute_result"
    }
   ],
   "source": [
    "df_new.columns"
   ]
  },
  {
   "cell_type": "markdown",
   "id": "5dbc224d-10cd-4ed7-a90a-b3c6d9069d81",
   "metadata": {},
   "source": [
    "# Dropping columns \n",
    "-Unique_Id -- Unique identifier for each complaint (useful for tracking predictions).\n",
    "-cleaned_text--Preprocessed complaint text (used as input for DBERTA).\n",
    "-Value_Ebene1--First-level category (broad category).\n",
    "-Value_Ebene2--Second-level category (sub-category).\n",
    "-Value_Ebene3--Third-level category (fine-grained classification).\n",
    "-Code_Nummer_Ebene1--Numeric representation of first-level category.\n",
    "-Code_Nummer_Ebene2--Numeric representation of second-level category.\n",
    "-Code_Nummer_Ebene3--Numeric representation of third-level category."
   ]
  },
  {
   "cell_type": "code",
   "execution_count": 79,
   "id": "77e1e1e0-ac5d-4d1e-b084-a48875775677",
   "metadata": {},
   "outputs": [
    {
     "data": {
      "text/plain": [
       "array(['Strom', 'Sonstiges', nan, 'Gas'], dtype=object)"
      ]
     },
     "execution_count": 79,
     "metadata": {},
     "output_type": "execute_result"
    }
   ],
   "source": [
    "##Checking categories of each column \n",
    "df[\"Value_Ebene1\"].unique()"
   ]
  },
  {
   "cell_type": "code",
   "execution_count": 54,
   "id": "28d80597-99bf-48cc-bc20-5a3f8cb4ffa2",
   "metadata": {},
   "outputs": [
    {
     "data": {
      "text/plain": [
       "array(['Strompreise', nan, 'sonstige Belieferung', 'Irrläufer extern',\n",
       "       'Rechtsmittel und Handlungsmöglichkeiten', 'Netzanschluss',\n",
       "       'Abgabe an Dritte', 'Erneuerbare Energien, Kraftwärmekopplung',\n",
       "       'Messwesen', 'Netzbetrieb', 'Netzregulierung', 'Elektromobilität',\n",
       "       'Haushaltskundenverträge', 'Lieferantenwechsel', 'Gemischtes',\n",
       "       'Grundversorgung / Ersatzversorgung', 'Abrechnung', 'Gaspreise',\n",
       "       'Grundversorgung', 'Netzzugang'], dtype=object)"
      ]
     },
     "execution_count": 54,
     "metadata": {},
     "output_type": "execute_result"
    }
   ],
   "source": [
    "df[\"Value_Ebene2\"].unique()"
   ]
  },
  {
   "cell_type": "code",
   "execution_count": 55,
   "id": "829464ff-befb-4dd2-afb7-551b229ad4f9",
   "metadata": {
    "scrolled": true
   },
   "outputs": [
    {
     "data": {
      "text/plain": [
       "array(['keine Strompreisgenehmigung', nan,\n",
       "       'Kundenanlage § 3 Nr. 24a EnWG',\n",
       "       'Verbraucherbeschwerde und Schlichtung',\n",
       "       'Letztverbraucher in Niederspannung, § 18 EnWG',\n",
       "       'Erneuerbare Energien', 'Befundprüfung von Zählern',\n",
       "       'Stromnetzentgelte', 'Messstellenbetriebsgesetz',\n",
       "       'Vertragsschluss', 'Wechselprozess', 'Vor Vertragsschluss',\n",
       "       'Berater/Projektberatung', 'Grundversorgungsvertragsverhältnis',\n",
       "       'Im Vertragsverhältnis',\n",
       "       'Abrechnung & Abrechnungsinformation (Form und Turnus) (§ 40b EnWG)',\n",
       "       'Verfahren nach 65 EnWG', 'untergeschobene Verträge',\n",
       "       'Energieträger & Wasser- Unzuständigkeiten',\n",
       "       'Grundversorgungspflicht', 'Beendigung des Vertrages',\n",
       "       'Stromabrechnung, Frist § 40c Abs. 2 EnWG',\n",
       "       'Gasabrechnung, Frist § 40c Abs. 2 EnWG',\n",
       "       'Beendigung der Grundversorgung', 'Prüfung von Rechnungen',\n",
       "       'Danksagung vom Verbraucher', 'Gaspreisbremse', 'Heizstrom',\n",
       "       'Politik & Gesetzgebung- Unzuständigkeit',\n",
       "       'Belieferung Mieter durch Eigenerzeugung',\n",
       "       'Mieterstrom für Vermieter',\n",
       "       'Guthabenauszahlung (§ 40c Abs. 3 EnWG)',\n",
       "       'Grundversorgungsvertragsverältnis', 'Strompreisbremse',\n",
       "       'Strompreiszusammensetzung', 'Wissenschaftliche Anfrage',\n",
       "       'Ablesung durch den MsB nach dem MsbG',\n",
       "       'Umstellung L- auf H-Gas - Allgemein',\n",
       "       'Letztverbraucher im Niederdruck § 18 EnWG',\n",
       "       'Datenschutz - Unzuständigkeit', 'keine Gaspreisgenehmigung',\n",
       "       'Lieferantenwechselprobleme',\n",
       "       'Mindestinhalte der Rechnung (§ 40 EnWG)'], dtype=object)"
      ]
     },
     "execution_count": 55,
     "metadata": {},
     "output_type": "execute_result"
    }
   ],
   "source": [
    "df[\"Value_Ebene3\"].unique()"
   ]
  },
  {
   "cell_type": "code",
   "execution_count": 23,
   "id": "fe6d1e90-a571-461e-bda3-1ed38a52eaee",
   "metadata": {},
   "outputs": [
    {
     "data": {
      "text/plain": [
       "array([nan, 'Kurzform Beschwerde und Schlichtung',\n",
       "       'Grundstücksbenutzung, § 12 NAV',\n",
       "       'Abschläge bei Einspeisevergütung',\n",
       "       'Betrieb elektr. Anlage; Anmeldepflicht Ladesäule; §§ 13, 15, 19 NAV',\n",
       "       'Nutzung des Anschlusses, § 16 NAV',\n",
       "       'Unterbrechung  Anschlussnutzung, § 24 Abs. 1 u. 2 NAV – durch Netzbetreiber (aus eigenem Recht)',\n",
       "       'Messentgelt außerhalb der Verbrauchsrechnung',\n",
       "       'unerlaubte Telefonwerbung & Textform für Vertragsschluss',\n",
       "       'Identifizierung der Entnahmestelle, § 14 StromNZV',\n",
       "       '§ 20a EnWG und Probleme', 'Mini-PV Anlage',\n",
       "       'Vertragsschluss über Vergleichsportal',\n",
       "       'Vertragsschluss (§ 2 StromGVV)',\n",
       "       'Ableserecht von Lieferanten (auch Grundversorgung; § 40a EnWG)',\n",
       "       'Laufzeit, stillschweigende Vertragsverlängerung, Kündigungsfrist (§ 309 Nr. 9 BGB)',\n",
       "       'Vertragsbestätigung ohne Vertragsschluss',\n",
       "       'Umzug (§ 41b Abs. 5 EnWG)', 'Strombezug von PV-Anlagen',\n",
       "       'Unterbrechung der Versorgung (§ 19 StromGVV) / Sperrung',\n",
       "       'Lieferantenwechsel in einer Kundenanlage',\n",
       "       'Kündigung (§ 20 StromGVV)',\n",
       "       'Widerrufsrecht - Belehrung, Form, Frist',\n",
       "       'Kündigungsbestätigung ohne Kündigung',\n",
       "       'Vertragsklauseln - keine Prüfung',\n",
       "       'Preisänderung und Sonderkündigungsrecht (§ 41 Abs. 5 EnWG)',\n",
       "       'Abschläge, Höhe+Berechnung',\n",
       "       'Unterbrechung der Versorgung / Sperrung (wettbewerbliche Belieferung)',\n",
       "       'Kündigung - Voraussetzungen',\n",
       "       'Netzentgeltermäßigung für Nachtspeicher/Wärmepumpe/E-Auto, § 14a EnWG',\n",
       "       'Unterbrechung der Versorgung (§ 19 GasGVV) / Sperrung',\n",
       "       'Relevante Verbrauchsprognose bei Strompreisbremse',\n",
       "       'Berechnung Entlastung durch die Preisbremse',\n",
       "       'Prüfung Entlastung',\n",
       "       'Preisbremse bei zeitvariblen Tarif & Heizstrom',\n",
       "       'Berechnung Jahresstromverbrauch',\n",
       "       'EEG - Zuständigkeit der BNetzA',\n",
       "       'Abrechnung der Stromeinspeisung',\n",
       "       'Stilllegung/Rückbau Gasanschluss',\n",
       "       'Identifizierung der Entnahmestelle, § 41 GasNZV',\n",
       "       'Vertragsschluss (§ 2 GasGVV)',\n",
       "       'Relevante Verbrauchsprognose bei Gaspreisbremse',\n",
       "       'Dauer Herstellung Netzanschluss', 'LW trotz Schulden und Sperre',\n",
       "       'Verbraucherrechte in einer Kundenanlage',\n",
       "       'Missbrauchsaufsicht bei den Preisbremsen',\n",
       "       'Preisänderung, § 5 GasGVV', 'Preisänderung, § 5 StromGVV',\n",
       "       'Stromkennzeichnung (§ 42 EnWG)',\n",
       "       'MRU - Zuschuss bei nicht Anpassungsfähigkeit',\n",
       "       'Auslaufen der Preisbremsen', 'Ableserecht des Netzbetreibers',\n",
       "       'Vertragssituation im Todesfall',\n",
       "       'Entlastung: Abschlag Dezember 2022',\n",
       "       'Auswirkung Preisbremse auf Abschlag'], dtype=object)"
      ]
     },
     "execution_count": 23,
     "metadata": {},
     "output_type": "execute_result"
    }
   ],
   "source": [
    "df['Value_Ebene4'].unique()"
   ]
  },
  {
   "cell_type": "code",
   "execution_count": 24,
   "id": "31775508-1aee-46a5-95fb-8f892e7ad1d5",
   "metadata": {},
   "outputs": [
    {
     "data": {
      "text/plain": [
       "array([nan, 'Preisbindungsklausel', 'Absenkung der EEG-Umlage auf 0',\n",
       "       'Kündigung durch den Energielieferanten'], dtype=object)"
      ]
     },
     "execution_count": 24,
     "metadata": {},
     "output_type": "execute_result"
    }
   ],
   "source": [
    "df[\"Value_Ebene5\"].unique()"
   ]
  },
  {
   "cell_type": "code",
   "execution_count": 25,
   "id": "403db8ab-2736-4b2c-905b-0b63a5e1aabd",
   "metadata": {},
   "outputs": [
    {
     "data": {
      "text/plain": [
       "array([nan, 'Preisbindungsklausel', 'Absenkung der EEG-Umlage auf 0',\n",
       "       'Kündigung durch den Energielieferanten'], dtype=object)"
      ]
     },
     "execution_count": 25,
     "metadata": {},
     "output_type": "execute_result"
    }
   ],
   "source": [
    "df[\"Value_Ebene5\"].unique()"
   ]
  },
  {
   "cell_type": "code",
   "execution_count": 80,
   "id": "c5e6a6ca-4d20-4018-859a-65ee32236071",
   "metadata": {},
   "outputs": [],
   "source": [
    "# List of columns to drop\n",
    "columns_to_drop = [\"Unique_Id\",\"Eingangskanal\",\"Original_Arbeitshilfe_Nummer\", \n",
    "                   \"Kurztext\", \"Langtext\",\n",
    "                   \"Code_Nummer_Ebene1\", \"Code_Nummer_Ebene2\", \n",
    "                   \"Code_Nummer_Ebene3\", \"Code_Nummer_Ebene4\", \n",
    "                   \"Code_Nummer_Ebene5\"]\n",
    "\n",
    "# Drop the columns\n",
    "df_new1 = df_new.drop(columns=columns_to_drop, errors='ignore')"
   ]
  },
  {
   "cell_type": "code",
   "execution_count": 81,
   "id": "90a4d90e-a9b4-4621-9c81-a7482fc2dcbc",
   "metadata": {},
   "outputs": [
    {
     "data": {
      "text/plain": [
       "Index(['cleaned_text', 'Value_Ebene1', 'Value_Ebene2', 'Value_Ebene3',\n",
       "       'Value_Ebene4', 'Value_Ebene5'],\n",
       "      dtype='object')"
      ]
     },
     "execution_count": 81,
     "metadata": {},
     "output_type": "execute_result"
    }
   ],
   "source": [
    "df_new1.columns"
   ]
  },
  {
   "cell_type": "code",
   "execution_count": 58,
   "id": "16068977-21d1-4dc0-a14c-45eef926f056",
   "metadata": {},
   "outputs": [
    {
     "data": {
      "text/html": [
       "<div>\n",
       "<style scoped>\n",
       "    .dataframe tbody tr th:only-of-type {\n",
       "        vertical-align: middle;\n",
       "    }\n",
       "\n",
       "    .dataframe tbody tr th {\n",
       "        vertical-align: top;\n",
       "    }\n",
       "\n",
       "    .dataframe thead th {\n",
       "        text-align: right;\n",
       "    }\n",
       "</style>\n",
       "<table border=\"1\" class=\"dataframe\">\n",
       "  <thead>\n",
       "    <tr style=\"text-align: right;\">\n",
       "      <th></th>\n",
       "      <th>cleaned_text</th>\n",
       "      <th>Value_Ebene1</th>\n",
       "      <th>Value_Ebene2</th>\n",
       "      <th>Value_Ebene3</th>\n",
       "      <th>Value_Ebene4</th>\n",
       "      <th>Value_Ebene5</th>\n",
       "    </tr>\n",
       "  </thead>\n",
       "  <tbody>\n",
       "    <tr>\n",
       "      <th>0</th>\n",
       "      <td>Jahrgang 2022</td>\n",
       "      <td>Strom</td>\n",
       "      <td>Strompreise</td>\n",
       "      <td>keine Strompreisgenehmigung</td>\n",
       "      <td>NaN</td>\n",
       "      <td>NaN</td>\n",
       "    </tr>\n",
       "    <tr>\n",
       "      <th>1</th>\n",
       "      <td>Sehr geehrte Damen und Herren, Ich habe eine k...</td>\n",
       "      <td>Strom</td>\n",
       "      <td>Strompreise</td>\n",
       "      <td>keine Strompreisgenehmigung</td>\n",
       "      <td>NaN</td>\n",
       "      <td>NaN</td>\n",
       "    </tr>\n",
       "    <tr>\n",
       "      <th>2</th>\n",
       "      <td>Von: falk schuster &lt; Email_ersetzt &gt; Gesendet:...</td>\n",
       "      <td>Strom</td>\n",
       "      <td>Strompreise</td>\n",
       "      <td>keine Strompreisgenehmigung</td>\n",
       "      <td>NaN</td>\n",
       "      <td>NaN</td>\n",
       "    </tr>\n",
       "    <tr>\n",
       "      <th>3</th>\n",
       "      <td>Sehr geehrte Damen und Herren, als Kunde der F...</td>\n",
       "      <td>Strom</td>\n",
       "      <td>Strompreise</td>\n",
       "      <td>keine Strompreisgenehmigung</td>\n",
       "      <td>NaN</td>\n",
       "      <td>NaN</td>\n",
       "    </tr>\n",
       "    <tr>\n",
       "      <th>4</th>\n",
       "      <td>Hallo vorheriges Jahr wurde mein Vertrag bei E...</td>\n",
       "      <td>Strom</td>\n",
       "      <td>Strompreise</td>\n",
       "      <td>keine Strompreisgenehmigung</td>\n",
       "      <td>NaN</td>\n",
       "      <td>NaN</td>\n",
       "    </tr>\n",
       "  </tbody>\n",
       "</table>\n",
       "</div>"
      ],
      "text/plain": [
       "                                        cleaned_text Value_Ebene1  \\\n",
       "0                                      Jahrgang 2022        Strom   \n",
       "1  Sehr geehrte Damen und Herren, Ich habe eine k...        Strom   \n",
       "2  Von: falk schuster < Email_ersetzt > Gesendet:...        Strom   \n",
       "3  Sehr geehrte Damen und Herren, als Kunde der F...        Strom   \n",
       "4  Hallo vorheriges Jahr wurde mein Vertrag bei E...        Strom   \n",
       "\n",
       "  Value_Ebene2                 Value_Ebene3 Value_Ebene4 Value_Ebene5  \n",
       "0  Strompreise  keine Strompreisgenehmigung          NaN          NaN  \n",
       "1  Strompreise  keine Strompreisgenehmigung          NaN          NaN  \n",
       "2  Strompreise  keine Strompreisgenehmigung          NaN          NaN  \n",
       "3  Strompreise  keine Strompreisgenehmigung          NaN          NaN  \n",
       "4  Strompreise  keine Strompreisgenehmigung          NaN          NaN  "
      ]
     },
     "execution_count": 58,
     "metadata": {},
     "output_type": "execute_result"
    }
   ],
   "source": [
    "df_new1.head()"
   ]
  },
  {
   "cell_type": "code",
   "execution_count": 82,
   "id": "275eccd0-11a0-41a1-acbe-d66b6f17bbea",
   "metadata": {},
   "outputs": [
    {
     "data": {
      "text/html": [
       "<div>\n",
       "<style scoped>\n",
       "    .dataframe tbody tr th:only-of-type {\n",
       "        vertical-align: middle;\n",
       "    }\n",
       "\n",
       "    .dataframe tbody tr th {\n",
       "        vertical-align: top;\n",
       "    }\n",
       "\n",
       "    .dataframe thead th {\n",
       "        text-align: right;\n",
       "    }\n",
       "</style>\n",
       "<table border=\"1\" class=\"dataframe\">\n",
       "  <thead>\n",
       "    <tr style=\"text-align: right;\">\n",
       "      <th></th>\n",
       "      <th>cleaned_text</th>\n",
       "      <th>Value_Ebene1</th>\n",
       "    </tr>\n",
       "  </thead>\n",
       "  <tbody>\n",
       "    <tr>\n",
       "      <th>0</th>\n",
       "      <td>Jahrgang 2022</td>\n",
       "      <td>Strom</td>\n",
       "    </tr>\n",
       "    <tr>\n",
       "      <th>1</th>\n",
       "      <td>Sehr geehrte Damen und Herren, Ich habe eine k...</td>\n",
       "      <td>Strom</td>\n",
       "    </tr>\n",
       "    <tr>\n",
       "      <th>2</th>\n",
       "      <td>Von: falk schuster &lt; Email_ersetzt &gt; Gesendet:...</td>\n",
       "      <td>Strom</td>\n",
       "    </tr>\n",
       "    <tr>\n",
       "      <th>3</th>\n",
       "      <td>Sehr geehrte Damen und Herren, als Kunde der F...</td>\n",
       "      <td>Strom</td>\n",
       "    </tr>\n",
       "    <tr>\n",
       "      <th>4</th>\n",
       "      <td>Hallo vorheriges Jahr wurde mein Vertrag bei E...</td>\n",
       "      <td>Strom</td>\n",
       "    </tr>\n",
       "  </tbody>\n",
       "</table>\n",
       "</div>"
      ],
      "text/plain": [
       "                                        cleaned_text Value_Ebene1\n",
       "0                                      Jahrgang 2022        Strom\n",
       "1  Sehr geehrte Damen und Herren, Ich habe eine k...        Strom\n",
       "2  Von: falk schuster < Email_ersetzt > Gesendet:...        Strom\n",
       "3  Sehr geehrte Damen und Herren, als Kunde der F...        Strom\n",
       "4  Hallo vorheriges Jahr wurde mein Vertrag bei E...        Strom"
      ]
     },
     "execution_count": 82,
     "metadata": {},
     "output_type": "execute_result"
    }
   ],
   "source": [
    "# Select the first three columns\n",
    "##Final dataset for the DBERTA model\n",
    "df_new2 = df_new1.iloc[:, :2]\n",
    "\n",
    "# Display the first few rows of the new DataFrame\n",
    "df_new2.head()"
   ]
  },
  {
   "cell_type": "code",
   "execution_count": 83,
   "id": "272742c3-4452-4dc7-b7d6-d9b4c1253404",
   "metadata": {},
   "outputs": [],
   "source": [
    "df_new3 = df_new2.iloc[1:].reset_index(drop=True)"
   ]
  },
  {
   "cell_type": "code",
   "execution_count": 84,
   "id": "fcc0dfbf-6042-4750-9e12-89f5624fd58c",
   "metadata": {},
   "outputs": [
    {
     "data": {
      "text/html": [
       "<div>\n",
       "<style scoped>\n",
       "    .dataframe tbody tr th:only-of-type {\n",
       "        vertical-align: middle;\n",
       "    }\n",
       "\n",
       "    .dataframe tbody tr th {\n",
       "        vertical-align: top;\n",
       "    }\n",
       "\n",
       "    .dataframe thead th {\n",
       "        text-align: right;\n",
       "    }\n",
       "</style>\n",
       "<table border=\"1\" class=\"dataframe\">\n",
       "  <thead>\n",
       "    <tr style=\"text-align: right;\">\n",
       "      <th></th>\n",
       "      <th>cleaned_text</th>\n",
       "      <th>Value_Ebene1</th>\n",
       "    </tr>\n",
       "  </thead>\n",
       "  <tbody>\n",
       "    <tr>\n",
       "      <th>0</th>\n",
       "      <td>Sehr geehrte Damen und Herren, Ich habe eine k...</td>\n",
       "      <td>Strom</td>\n",
       "    </tr>\n",
       "    <tr>\n",
       "      <th>1</th>\n",
       "      <td>Von: falk schuster &lt; Email_ersetzt &gt; Gesendet:...</td>\n",
       "      <td>Strom</td>\n",
       "    </tr>\n",
       "    <tr>\n",
       "      <th>2</th>\n",
       "      <td>Sehr geehrte Damen und Herren, als Kunde der F...</td>\n",
       "      <td>Strom</td>\n",
       "    </tr>\n",
       "    <tr>\n",
       "      <th>3</th>\n",
       "      <td>Hallo vorheriges Jahr wurde mein Vertrag bei E...</td>\n",
       "      <td>Strom</td>\n",
       "    </tr>\n",
       "    <tr>\n",
       "      <th>4</th>\n",
       "      <td>Sehr geehrte Damen und Herren,  zu den von mei...</td>\n",
       "      <td>Strom</td>\n",
       "    </tr>\n",
       "  </tbody>\n",
       "</table>\n",
       "</div>"
      ],
      "text/plain": [
       "                                        cleaned_text Value_Ebene1\n",
       "0  Sehr geehrte Damen und Herren, Ich habe eine k...        Strom\n",
       "1  Von: falk schuster < Email_ersetzt > Gesendet:...        Strom\n",
       "2  Sehr geehrte Damen und Herren, als Kunde der F...        Strom\n",
       "3  Hallo vorheriges Jahr wurde mein Vertrag bei E...        Strom\n",
       "4  Sehr geehrte Damen und Herren,  zu den von mei...        Strom"
      ]
     },
     "execution_count": 84,
     "metadata": {},
     "output_type": "execute_result"
    }
   ],
   "source": [
    "df_new3.head()"
   ]
  },
  {
   "cell_type": "code",
   "execution_count": 63,
   "id": "39efe5b5-f3ed-4a6f-9342-89199a92d4da",
   "metadata": {},
   "outputs": [
    {
     "name": "stdout",
     "output_type": "stream",
     "text": [
      "File saved at: /home/ec2-user/SageMaker/preprocessed_data.csv\n"
     ]
    }
   ],
   "source": [
    "# Save the DataFrame as a CSV file in SageMaker's local storage\n",
    "csv_file_path = \"/home/ec2-user/SageMaker/preprocessed_data.csv\"\n",
    "df_new3.to_csv(csv_file_path, index=False)\n",
    "\n",
    "print(f\"File saved at: {csv_file_path}\")\n"
   ]
  },
  {
   "cell_type": "code",
   "execution_count": null,
   "id": "f31b188c-14eb-48d0-8dc6-fc2989a81018",
   "metadata": {},
   "outputs": [],
   "source": [
    "[0.9, 0.12, 0.15]"
   ]
  },
  {
   "cell_type": "markdown",
   "id": "a368cb40-9c55-4749-bf29-aad6c4eded4a",
   "metadata": {},
   "source": []
  },
  {
   "cell_type": "markdown",
   "id": "1a5e85b5-8465-4030-946c-801abad0598e",
   "metadata": {},
   "source": [
    "## 2nd level dataset"
   ]
  },
  {
   "cell_type": "code",
   "execution_count": 100,
   "id": "195d9397-6fcb-4d68-9a99-1e11fd9d6b6c",
   "metadata": {},
   "outputs": [],
   "source": [
    "df_new4 = df_new1.iloc[:, :3]"
   ]
  },
  {
   "cell_type": "code",
   "execution_count": 101,
   "id": "b51e7b17-c5a1-4c32-9bca-5d9e487f998f",
   "metadata": {},
   "outputs": [
    {
     "data": {
      "text/html": [
       "<div>\n",
       "<style scoped>\n",
       "    .dataframe tbody tr th:only-of-type {\n",
       "        vertical-align: middle;\n",
       "    }\n",
       "\n",
       "    .dataframe tbody tr th {\n",
       "        vertical-align: top;\n",
       "    }\n",
       "\n",
       "    .dataframe thead th {\n",
       "        text-align: right;\n",
       "    }\n",
       "</style>\n",
       "<table border=\"1\" class=\"dataframe\">\n",
       "  <thead>\n",
       "    <tr style=\"text-align: right;\">\n",
       "      <th></th>\n",
       "      <th>cleaned_text</th>\n",
       "      <th>Value_Ebene1</th>\n",
       "      <th>Value_Ebene2</th>\n",
       "    </tr>\n",
       "  </thead>\n",
       "  <tbody>\n",
       "    <tr>\n",
       "      <th>0</th>\n",
       "      <td>Jahrgang 2022</td>\n",
       "      <td>Strom</td>\n",
       "      <td>Strompreise</td>\n",
       "    </tr>\n",
       "    <tr>\n",
       "      <th>1</th>\n",
       "      <td>Sehr geehrte Damen und Herren, Ich habe eine k...</td>\n",
       "      <td>Strom</td>\n",
       "      <td>Strompreise</td>\n",
       "    </tr>\n",
       "    <tr>\n",
       "      <th>2</th>\n",
       "      <td>Von: falk schuster &lt; Email_ersetzt &gt; Gesendet:...</td>\n",
       "      <td>Strom</td>\n",
       "      <td>Strompreise</td>\n",
       "    </tr>\n",
       "    <tr>\n",
       "      <th>3</th>\n",
       "      <td>Sehr geehrte Damen und Herren, als Kunde der F...</td>\n",
       "      <td>Strom</td>\n",
       "      <td>Strompreise</td>\n",
       "    </tr>\n",
       "    <tr>\n",
       "      <th>4</th>\n",
       "      <td>Hallo vorheriges Jahr wurde mein Vertrag bei E...</td>\n",
       "      <td>Strom</td>\n",
       "      <td>Strompreise</td>\n",
       "    </tr>\n",
       "    <tr>\n",
       "      <th>...</th>\n",
       "      <td>...</td>\n",
       "      <td>...</td>\n",
       "      <td>...</td>\n",
       "    </tr>\n",
       "    <tr>\n",
       "      <th>717</th>\n",
       "      <td>PER, habe mit einer Mitarbeiterin von Ihnen te...</td>\n",
       "      <td>Strom</td>\n",
       "      <td>Rechtsmittel und Handlungsmöglichkeiten</td>\n",
       "    </tr>\n",
       "    <tr>\n",
       "      <th>718</th>\n",
       "      <td>Sehr geehrte Damen und Herren, ich hätte eine ...</td>\n",
       "      <td>Strom</td>\n",
       "      <td>NaN</td>\n",
       "    </tr>\n",
       "    <tr>\n",
       "      <th>719</th>\n",
       "      <td>Guten Tag, neue Faxnachricht vom:  Datum_erset...</td>\n",
       "      <td>Sonstiges</td>\n",
       "      <td>Irrläufer extern</td>\n",
       "    </tr>\n",
       "    <tr>\n",
       "      <th>720</th>\n",
       "      <td>Guten Morgen, neue Faxnachricht vom:  Datum_er...</td>\n",
       "      <td>Sonstiges</td>\n",
       "      <td>Irrläufer extern</td>\n",
       "    </tr>\n",
       "    <tr>\n",
       "      <th>721</th>\n",
       "      <td>Guten Abend, neue Faxnachricht vom:  Datum_ers...</td>\n",
       "      <td>Sonstiges</td>\n",
       "      <td>Irrläufer extern</td>\n",
       "    </tr>\n",
       "  </tbody>\n",
       "</table>\n",
       "<p>722 rows × 3 columns</p>\n",
       "</div>"
      ],
      "text/plain": [
       "                                          cleaned_text Value_Ebene1  \\\n",
       "0                                        Jahrgang 2022        Strom   \n",
       "1    Sehr geehrte Damen und Herren, Ich habe eine k...        Strom   \n",
       "2    Von: falk schuster < Email_ersetzt > Gesendet:...        Strom   \n",
       "3    Sehr geehrte Damen und Herren, als Kunde der F...        Strom   \n",
       "4    Hallo vorheriges Jahr wurde mein Vertrag bei E...        Strom   \n",
       "..                                                 ...          ...   \n",
       "717  PER, habe mit einer Mitarbeiterin von Ihnen te...        Strom   \n",
       "718  Sehr geehrte Damen und Herren, ich hätte eine ...        Strom   \n",
       "719  Guten Tag, neue Faxnachricht vom:  Datum_erset...    Sonstiges   \n",
       "720  Guten Morgen, neue Faxnachricht vom:  Datum_er...    Sonstiges   \n",
       "721  Guten Abend, neue Faxnachricht vom:  Datum_ers...    Sonstiges   \n",
       "\n",
       "                                Value_Ebene2  \n",
       "0                                Strompreise  \n",
       "1                                Strompreise  \n",
       "2                                Strompreise  \n",
       "3                                Strompreise  \n",
       "4                                Strompreise  \n",
       "..                                       ...  \n",
       "717  Rechtsmittel und Handlungsmöglichkeiten  \n",
       "718                                      NaN  \n",
       "719                         Irrläufer extern  \n",
       "720                         Irrläufer extern  \n",
       "721                         Irrläufer extern  \n",
       "\n",
       "[722 rows x 3 columns]"
      ]
     },
     "execution_count": 101,
     "metadata": {},
     "output_type": "execute_result"
    }
   ],
   "source": [
    "df_new4"
   ]
  },
  {
   "cell_type": "code",
   "execution_count": 102,
   "id": "74e66fa9-29e0-42bf-8402-f09b70b56bad",
   "metadata": {},
   "outputs": [],
   "source": [
    "df_new4 = df_new4.iloc[1:].reset_index(drop=True)"
   ]
  },
  {
   "cell_type": "code",
   "execution_count": 103,
   "id": "9eadd1ea-a136-4dfe-a34a-be0bf8004da8",
   "metadata": {},
   "outputs": [
    {
     "data": {
      "text/html": [
       "<div>\n",
       "<style scoped>\n",
       "    .dataframe tbody tr th:only-of-type {\n",
       "        vertical-align: middle;\n",
       "    }\n",
       "\n",
       "    .dataframe tbody tr th {\n",
       "        vertical-align: top;\n",
       "    }\n",
       "\n",
       "    .dataframe thead th {\n",
       "        text-align: right;\n",
       "    }\n",
       "</style>\n",
       "<table border=\"1\" class=\"dataframe\">\n",
       "  <thead>\n",
       "    <tr style=\"text-align: right;\">\n",
       "      <th></th>\n",
       "      <th>cleaned_text</th>\n",
       "      <th>Value_Ebene1</th>\n",
       "      <th>Value_Ebene2</th>\n",
       "    </tr>\n",
       "  </thead>\n",
       "  <tbody>\n",
       "    <tr>\n",
       "      <th>0</th>\n",
       "      <td>Sehr geehrte Damen und Herren, Ich habe eine k...</td>\n",
       "      <td>Strom</td>\n",
       "      <td>Strompreise</td>\n",
       "    </tr>\n",
       "    <tr>\n",
       "      <th>1</th>\n",
       "      <td>Von: falk schuster &lt; Email_ersetzt &gt; Gesendet:...</td>\n",
       "      <td>Strom</td>\n",
       "      <td>Strompreise</td>\n",
       "    </tr>\n",
       "    <tr>\n",
       "      <th>2</th>\n",
       "      <td>Sehr geehrte Damen und Herren, als Kunde der F...</td>\n",
       "      <td>Strom</td>\n",
       "      <td>Strompreise</td>\n",
       "    </tr>\n",
       "    <tr>\n",
       "      <th>3</th>\n",
       "      <td>Hallo vorheriges Jahr wurde mein Vertrag bei E...</td>\n",
       "      <td>Strom</td>\n",
       "      <td>Strompreise</td>\n",
       "    </tr>\n",
       "    <tr>\n",
       "      <th>4</th>\n",
       "      <td>Sehr geehrte Damen und Herren,  zu den von mei...</td>\n",
       "      <td>Strom</td>\n",
       "      <td>Strompreise</td>\n",
       "    </tr>\n",
       "  </tbody>\n",
       "</table>\n",
       "</div>"
      ],
      "text/plain": [
       "                                        cleaned_text Value_Ebene1 Value_Ebene2\n",
       "0  Sehr geehrte Damen und Herren, Ich habe eine k...        Strom  Strompreise\n",
       "1  Von: falk schuster < Email_ersetzt > Gesendet:...        Strom  Strompreise\n",
       "2  Sehr geehrte Damen und Herren, als Kunde der F...        Strom  Strompreise\n",
       "3  Hallo vorheriges Jahr wurde mein Vertrag bei E...        Strom  Strompreise\n",
       "4  Sehr geehrte Damen und Herren,  zu den von mei...        Strom  Strompreise"
      ]
     },
     "execution_count": 103,
     "metadata": {},
     "output_type": "execute_result"
    }
   ],
   "source": [
    "df_new4.head()"
   ]
  },
  {
   "cell_type": "code",
   "execution_count": 69,
   "id": "ed829402-ac7a-42b2-b5fe-207586da2e2e",
   "metadata": {},
   "outputs": [
    {
     "data": {
      "text/plain": [
       "Index(['cleaned_text', 'Value_Ebene1', 'Value_Ebene2'], dtype='object')"
      ]
     },
     "execution_count": 69,
     "metadata": {},
     "output_type": "execute_result"
    }
   ],
   "source": [
    "df_new4.columns"
   ]
  },
  {
   "cell_type": "code",
   "execution_count": 104,
   "id": "f7354311-acf0-401e-ad51-bfc73ff87b9f",
   "metadata": {},
   "outputs": [],
   "source": [
    "df_new4 = df_new4[['Value_Ebene1', 'cleaned_text', 'Value_Ebene2']]"
   ]
  },
  {
   "cell_type": "code",
   "execution_count": 105,
   "id": "0ce5cd4e-07c3-4396-817f-363f79754ad1",
   "metadata": {},
   "outputs": [
    {
     "data": {
      "text/html": [
       "<div>\n",
       "<style scoped>\n",
       "    .dataframe tbody tr th:only-of-type {\n",
       "        vertical-align: middle;\n",
       "    }\n",
       "\n",
       "    .dataframe tbody tr th {\n",
       "        vertical-align: top;\n",
       "    }\n",
       "\n",
       "    .dataframe thead th {\n",
       "        text-align: right;\n",
       "    }\n",
       "</style>\n",
       "<table border=\"1\" class=\"dataframe\">\n",
       "  <thead>\n",
       "    <tr style=\"text-align: right;\">\n",
       "      <th></th>\n",
       "      <th>Value_Ebene1</th>\n",
       "      <th>cleaned_text</th>\n",
       "      <th>Value_Ebene2</th>\n",
       "    </tr>\n",
       "  </thead>\n",
       "  <tbody>\n",
       "    <tr>\n",
       "      <th>0</th>\n",
       "      <td>Strom</td>\n",
       "      <td>Sehr geehrte Damen und Herren, Ich habe eine k...</td>\n",
       "      <td>Strompreise</td>\n",
       "    </tr>\n",
       "    <tr>\n",
       "      <th>1</th>\n",
       "      <td>Strom</td>\n",
       "      <td>Von: falk schuster &lt; Email_ersetzt &gt; Gesendet:...</td>\n",
       "      <td>Strompreise</td>\n",
       "    </tr>\n",
       "    <tr>\n",
       "      <th>2</th>\n",
       "      <td>Strom</td>\n",
       "      <td>Sehr geehrte Damen und Herren, als Kunde der F...</td>\n",
       "      <td>Strompreise</td>\n",
       "    </tr>\n",
       "    <tr>\n",
       "      <th>3</th>\n",
       "      <td>Strom</td>\n",
       "      <td>Hallo vorheriges Jahr wurde mein Vertrag bei E...</td>\n",
       "      <td>Strompreise</td>\n",
       "    </tr>\n",
       "    <tr>\n",
       "      <th>4</th>\n",
       "      <td>Strom</td>\n",
       "      <td>Sehr geehrte Damen und Herren,  zu den von mei...</td>\n",
       "      <td>Strompreise</td>\n",
       "    </tr>\n",
       "    <tr>\n",
       "      <th>...</th>\n",
       "      <td>...</td>\n",
       "      <td>...</td>\n",
       "      <td>...</td>\n",
       "    </tr>\n",
       "    <tr>\n",
       "      <th>716</th>\n",
       "      <td>Strom</td>\n",
       "      <td>PER, habe mit einer Mitarbeiterin von Ihnen te...</td>\n",
       "      <td>Rechtsmittel und Handlungsmöglichkeiten</td>\n",
       "    </tr>\n",
       "    <tr>\n",
       "      <th>717</th>\n",
       "      <td>Strom</td>\n",
       "      <td>Sehr geehrte Damen und Herren, ich hätte eine ...</td>\n",
       "      <td>NaN</td>\n",
       "    </tr>\n",
       "    <tr>\n",
       "      <th>718</th>\n",
       "      <td>Sonstiges</td>\n",
       "      <td>Guten Tag, neue Faxnachricht vom:  Datum_erset...</td>\n",
       "      <td>Irrläufer extern</td>\n",
       "    </tr>\n",
       "    <tr>\n",
       "      <th>719</th>\n",
       "      <td>Sonstiges</td>\n",
       "      <td>Guten Morgen, neue Faxnachricht vom:  Datum_er...</td>\n",
       "      <td>Irrläufer extern</td>\n",
       "    </tr>\n",
       "    <tr>\n",
       "      <th>720</th>\n",
       "      <td>Sonstiges</td>\n",
       "      <td>Guten Abend, neue Faxnachricht vom:  Datum_ers...</td>\n",
       "      <td>Irrläufer extern</td>\n",
       "    </tr>\n",
       "  </tbody>\n",
       "</table>\n",
       "<p>721 rows × 3 columns</p>\n",
       "</div>"
      ],
      "text/plain": [
       "    Value_Ebene1                                       cleaned_text  \\\n",
       "0          Strom  Sehr geehrte Damen und Herren, Ich habe eine k...   \n",
       "1          Strom  Von: falk schuster < Email_ersetzt > Gesendet:...   \n",
       "2          Strom  Sehr geehrte Damen und Herren, als Kunde der F...   \n",
       "3          Strom  Hallo vorheriges Jahr wurde mein Vertrag bei E...   \n",
       "4          Strom  Sehr geehrte Damen und Herren,  zu den von mei...   \n",
       "..           ...                                                ...   \n",
       "716        Strom  PER, habe mit einer Mitarbeiterin von Ihnen te...   \n",
       "717        Strom  Sehr geehrte Damen und Herren, ich hätte eine ...   \n",
       "718    Sonstiges  Guten Tag, neue Faxnachricht vom:  Datum_erset...   \n",
       "719    Sonstiges  Guten Morgen, neue Faxnachricht vom:  Datum_er...   \n",
       "720    Sonstiges  Guten Abend, neue Faxnachricht vom:  Datum_ers...   \n",
       "\n",
       "                                Value_Ebene2  \n",
       "0                                Strompreise  \n",
       "1                                Strompreise  \n",
       "2                                Strompreise  \n",
       "3                                Strompreise  \n",
       "4                                Strompreise  \n",
       "..                                       ...  \n",
       "716  Rechtsmittel und Handlungsmöglichkeiten  \n",
       "717                                      NaN  \n",
       "718                         Irrläufer extern  \n",
       "719                         Irrläufer extern  \n",
       "720                         Irrläufer extern  \n",
       "\n",
       "[721 rows x 3 columns]"
      ]
     },
     "execution_count": 105,
     "metadata": {},
     "output_type": "execute_result"
    }
   ],
   "source": [
    "df_new4"
   ]
  },
  {
   "cell_type": "code",
   "execution_count": 72,
   "id": "1e519603-1895-4e57-97c2-57d0de390adc",
   "metadata": {},
   "outputs": [
    {
     "name": "stdout",
     "output_type": "stream",
     "text": [
      "File saved at: /home/ec2-user/SageMaker/preprocessed_data_level2.csv\n"
     ]
    }
   ],
   "source": [
    "# Save the DataFrame as a CSV file in SageMaker's local storage\n",
    "csv_file_path = \"/home/ec2-user/SageMaker/preprocessed_data_level2.csv\"\n",
    "df_new4.to_csv(csv_file_path, index=False)\n",
    "\n",
    "print(f\"File saved at: {csv_file_path}\")\n"
   ]
  },
  {
   "cell_type": "code",
   "execution_count": 89,
   "id": "c56c3b8e-5ef7-4cff-ac48-e57fb72f3928",
   "metadata": {},
   "outputs": [],
   "source": [
    "## Creating a new column"
   ]
  },
  {
   "cell_type": "code",
   "execution_count": 106,
   "id": "a4c3b8f5-67f8-49bd-aba4-9e458c804cfb",
   "metadata": {},
   "outputs": [],
   "source": [
    "# Create new column combining LongText + \"class - \" + Category\n",
    "df_new4['NewColumn'] = df_new4['cleaned_text'] + \" Kategorie ist - \" + df_new['Value_Ebene1']"
   ]
  },
  {
   "cell_type": "code",
   "execution_count": 107,
   "id": "64da4d4f-48b2-4113-9702-38a0f934ce74",
   "metadata": {},
   "outputs": [
    {
     "data": {
      "text/html": [
       "<div>\n",
       "<style scoped>\n",
       "    .dataframe tbody tr th:only-of-type {\n",
       "        vertical-align: middle;\n",
       "    }\n",
       "\n",
       "    .dataframe tbody tr th {\n",
       "        vertical-align: top;\n",
       "    }\n",
       "\n",
       "    .dataframe thead th {\n",
       "        text-align: right;\n",
       "    }\n",
       "</style>\n",
       "<table border=\"1\" class=\"dataframe\">\n",
       "  <thead>\n",
       "    <tr style=\"text-align: right;\">\n",
       "      <th></th>\n",
       "      <th>Value_Ebene1</th>\n",
       "      <th>cleaned_text</th>\n",
       "      <th>Value_Ebene2</th>\n",
       "      <th>NewColumn</th>\n",
       "    </tr>\n",
       "  </thead>\n",
       "  <tbody>\n",
       "    <tr>\n",
       "      <th>0</th>\n",
       "      <td>Strom</td>\n",
       "      <td>Sehr geehrte Damen und Herren, Ich habe eine k...</td>\n",
       "      <td>Strompreise</td>\n",
       "      <td>Sehr geehrte Damen und Herren, Ich habe eine k...</td>\n",
       "    </tr>\n",
       "    <tr>\n",
       "      <th>1</th>\n",
       "      <td>Strom</td>\n",
       "      <td>Von: falk schuster &lt; Email_ersetzt &gt; Gesendet:...</td>\n",
       "      <td>Strompreise</td>\n",
       "      <td>Von: falk schuster &lt; Email_ersetzt &gt; Gesendet:...</td>\n",
       "    </tr>\n",
       "    <tr>\n",
       "      <th>2</th>\n",
       "      <td>Strom</td>\n",
       "      <td>Sehr geehrte Damen und Herren, als Kunde der F...</td>\n",
       "      <td>Strompreise</td>\n",
       "      <td>Sehr geehrte Damen und Herren, als Kunde der F...</td>\n",
       "    </tr>\n",
       "    <tr>\n",
       "      <th>3</th>\n",
       "      <td>Strom</td>\n",
       "      <td>Hallo vorheriges Jahr wurde mein Vertrag bei E...</td>\n",
       "      <td>Strompreise</td>\n",
       "      <td>Hallo vorheriges Jahr wurde mein Vertrag bei E...</td>\n",
       "    </tr>\n",
       "    <tr>\n",
       "      <th>4</th>\n",
       "      <td>Strom</td>\n",
       "      <td>Sehr geehrte Damen und Herren,  zu den von mei...</td>\n",
       "      <td>Strompreise</td>\n",
       "      <td>Sehr geehrte Damen und Herren,  zu den von mei...</td>\n",
       "    </tr>\n",
       "    <tr>\n",
       "      <th>...</th>\n",
       "      <td>...</td>\n",
       "      <td>...</td>\n",
       "      <td>...</td>\n",
       "      <td>...</td>\n",
       "    </tr>\n",
       "    <tr>\n",
       "      <th>716</th>\n",
       "      <td>Strom</td>\n",
       "      <td>PER, habe mit einer Mitarbeiterin von Ihnen te...</td>\n",
       "      <td>Rechtsmittel und Handlungsmöglichkeiten</td>\n",
       "      <td>PER, habe mit einer Mitarbeiterin von Ihnen te...</td>\n",
       "    </tr>\n",
       "    <tr>\n",
       "      <th>717</th>\n",
       "      <td>Strom</td>\n",
       "      <td>Sehr geehrte Damen und Herren, ich hätte eine ...</td>\n",
       "      <td>NaN</td>\n",
       "      <td>Sehr geehrte Damen und Herren, ich hätte eine ...</td>\n",
       "    </tr>\n",
       "    <tr>\n",
       "      <th>718</th>\n",
       "      <td>Sonstiges</td>\n",
       "      <td>Guten Tag, neue Faxnachricht vom:  Datum_erset...</td>\n",
       "      <td>Irrläufer extern</td>\n",
       "      <td>Guten Tag, neue Faxnachricht vom:  Datum_erset...</td>\n",
       "    </tr>\n",
       "    <tr>\n",
       "      <th>719</th>\n",
       "      <td>Sonstiges</td>\n",
       "      <td>Guten Morgen, neue Faxnachricht vom:  Datum_er...</td>\n",
       "      <td>Irrläufer extern</td>\n",
       "      <td>Guten Morgen, neue Faxnachricht vom:  Datum_er...</td>\n",
       "    </tr>\n",
       "    <tr>\n",
       "      <th>720</th>\n",
       "      <td>Sonstiges</td>\n",
       "      <td>Guten Abend, neue Faxnachricht vom:  Datum_ers...</td>\n",
       "      <td>Irrläufer extern</td>\n",
       "      <td>Guten Abend, neue Faxnachricht vom:  Datum_ers...</td>\n",
       "    </tr>\n",
       "  </tbody>\n",
       "</table>\n",
       "<p>721 rows × 4 columns</p>\n",
       "</div>"
      ],
      "text/plain": [
       "    Value_Ebene1                                       cleaned_text  \\\n",
       "0          Strom  Sehr geehrte Damen und Herren, Ich habe eine k...   \n",
       "1          Strom  Von: falk schuster < Email_ersetzt > Gesendet:...   \n",
       "2          Strom  Sehr geehrte Damen und Herren, als Kunde der F...   \n",
       "3          Strom  Hallo vorheriges Jahr wurde mein Vertrag bei E...   \n",
       "4          Strom  Sehr geehrte Damen und Herren,  zu den von mei...   \n",
       "..           ...                                                ...   \n",
       "716        Strom  PER, habe mit einer Mitarbeiterin von Ihnen te...   \n",
       "717        Strom  Sehr geehrte Damen und Herren, ich hätte eine ...   \n",
       "718    Sonstiges  Guten Tag, neue Faxnachricht vom:  Datum_erset...   \n",
       "719    Sonstiges  Guten Morgen, neue Faxnachricht vom:  Datum_er...   \n",
       "720    Sonstiges  Guten Abend, neue Faxnachricht vom:  Datum_ers...   \n",
       "\n",
       "                                Value_Ebene2  \\\n",
       "0                                Strompreise   \n",
       "1                                Strompreise   \n",
       "2                                Strompreise   \n",
       "3                                Strompreise   \n",
       "4                                Strompreise   \n",
       "..                                       ...   \n",
       "716  Rechtsmittel und Handlungsmöglichkeiten   \n",
       "717                                      NaN   \n",
       "718                         Irrläufer extern   \n",
       "719                         Irrläufer extern   \n",
       "720                         Irrläufer extern   \n",
       "\n",
       "                                             NewColumn  \n",
       "0    Sehr geehrte Damen und Herren, Ich habe eine k...  \n",
       "1    Von: falk schuster < Email_ersetzt > Gesendet:...  \n",
       "2    Sehr geehrte Damen und Herren, als Kunde der F...  \n",
       "3    Hallo vorheriges Jahr wurde mein Vertrag bei E...  \n",
       "4    Sehr geehrte Damen und Herren,  zu den von mei...  \n",
       "..                                                 ...  \n",
       "716  PER, habe mit einer Mitarbeiterin von Ihnen te...  \n",
       "717  Sehr geehrte Damen und Herren, ich hätte eine ...  \n",
       "718  Guten Tag, neue Faxnachricht vom:  Datum_erset...  \n",
       "719  Guten Morgen, neue Faxnachricht vom:  Datum_er...  \n",
       "720  Guten Abend, neue Faxnachricht vom:  Datum_ers...  \n",
       "\n",
       "[721 rows x 4 columns]"
      ]
     },
     "execution_count": 107,
     "metadata": {},
     "output_type": "execute_result"
    }
   ],
   "source": [
    "df_new4"
   ]
  },
  {
   "cell_type": "code",
   "execution_count": 108,
   "id": "c21d9041-6a13-42dc-be9f-46e08d686e5e",
   "metadata": {},
   "outputs": [
    {
     "name": "stdout",
     "output_type": "stream",
     "text": [
      "Sehr geehrte Damen und Herren, Ich habe eine kurze Frage. Mein Stromanbieter erhöht den Grundpreis zum  Datum_ersetzt  um 19%. (dafür senkt er den Arbeitspreis 😉). Wie oft und in welchem Umfang darf der Stromanbieter den Grundpreis erhöhen ? Gibt es da gesetzliche Grundlagen ? Ich habe im ORG leider nichts gefunden. Vielen Dank. MfG PER Kategorie ist - Strom\n"
     ]
    }
   ],
   "source": [
    "\n",
    "print(df_new4.loc[0, 'NewColumn'])  "
   ]
  },
  {
   "cell_type": "code",
   "execution_count": 96,
   "id": "ee93055b-1a6f-4500-8065-ed58be54908f",
   "metadata": {},
   "outputs": [
    {
     "data": {
      "text/plain": [
       "Index(['cleaned_text', 'Value_Ebene1', 'Value_Ebene2', 'NewColumn'], dtype='object')"
      ]
     },
     "execution_count": 96,
     "metadata": {},
     "output_type": "execute_result"
    }
   ],
   "source": [
    "df_new4.columns"
   ]
  },
  {
   "cell_type": "code",
   "execution_count": 111,
   "id": "99245974-ec0b-4447-bc40-6767b4e6597a",
   "metadata": {},
   "outputs": [],
   "source": [
    "df_new5 = df_new4.drop(columns=['cleaned_text', 'Value_Ebene1'])"
   ]
  },
  {
   "cell_type": "code",
   "execution_count": 112,
   "id": "bc9a1abe-6110-4f7f-96ed-1b088d7538c6",
   "metadata": {},
   "outputs": [
    {
     "data": {
      "text/html": [
       "<div>\n",
       "<style scoped>\n",
       "    .dataframe tbody tr th:only-of-type {\n",
       "        vertical-align: middle;\n",
       "    }\n",
       "\n",
       "    .dataframe tbody tr th {\n",
       "        vertical-align: top;\n",
       "    }\n",
       "\n",
       "    .dataframe thead th {\n",
       "        text-align: right;\n",
       "    }\n",
       "</style>\n",
       "<table border=\"1\" class=\"dataframe\">\n",
       "  <thead>\n",
       "    <tr style=\"text-align: right;\">\n",
       "      <th></th>\n",
       "      <th>Value_Ebene2</th>\n",
       "      <th>NewColumn</th>\n",
       "    </tr>\n",
       "  </thead>\n",
       "  <tbody>\n",
       "    <tr>\n",
       "      <th>0</th>\n",
       "      <td>Strompreise</td>\n",
       "      <td>Sehr geehrte Damen und Herren, Ich habe eine k...</td>\n",
       "    </tr>\n",
       "    <tr>\n",
       "      <th>1</th>\n",
       "      <td>Strompreise</td>\n",
       "      <td>Von: falk schuster &lt; Email_ersetzt &gt; Gesendet:...</td>\n",
       "    </tr>\n",
       "    <tr>\n",
       "      <th>2</th>\n",
       "      <td>Strompreise</td>\n",
       "      <td>Sehr geehrte Damen und Herren, als Kunde der F...</td>\n",
       "    </tr>\n",
       "    <tr>\n",
       "      <th>3</th>\n",
       "      <td>Strompreise</td>\n",
       "      <td>Hallo vorheriges Jahr wurde mein Vertrag bei E...</td>\n",
       "    </tr>\n",
       "    <tr>\n",
       "      <th>4</th>\n",
       "      <td>Strompreise</td>\n",
       "      <td>Sehr geehrte Damen und Herren,  zu den von mei...</td>\n",
       "    </tr>\n",
       "    <tr>\n",
       "      <th>...</th>\n",
       "      <td>...</td>\n",
       "      <td>...</td>\n",
       "    </tr>\n",
       "    <tr>\n",
       "      <th>716</th>\n",
       "      <td>Rechtsmittel und Handlungsmöglichkeiten</td>\n",
       "      <td>PER, habe mit einer Mitarbeiterin von Ihnen te...</td>\n",
       "    </tr>\n",
       "    <tr>\n",
       "      <th>717</th>\n",
       "      <td>NaN</td>\n",
       "      <td>Sehr geehrte Damen und Herren, ich hätte eine ...</td>\n",
       "    </tr>\n",
       "    <tr>\n",
       "      <th>718</th>\n",
       "      <td>Irrläufer extern</td>\n",
       "      <td>Guten Tag, neue Faxnachricht vom:  Datum_erset...</td>\n",
       "    </tr>\n",
       "    <tr>\n",
       "      <th>719</th>\n",
       "      <td>Irrläufer extern</td>\n",
       "      <td>Guten Morgen, neue Faxnachricht vom:  Datum_er...</td>\n",
       "    </tr>\n",
       "    <tr>\n",
       "      <th>720</th>\n",
       "      <td>Irrläufer extern</td>\n",
       "      <td>Guten Abend, neue Faxnachricht vom:  Datum_ers...</td>\n",
       "    </tr>\n",
       "  </tbody>\n",
       "</table>\n",
       "<p>721 rows × 2 columns</p>\n",
       "</div>"
      ],
      "text/plain": [
       "                                Value_Ebene2  \\\n",
       "0                                Strompreise   \n",
       "1                                Strompreise   \n",
       "2                                Strompreise   \n",
       "3                                Strompreise   \n",
       "4                                Strompreise   \n",
       "..                                       ...   \n",
       "716  Rechtsmittel und Handlungsmöglichkeiten   \n",
       "717                                      NaN   \n",
       "718                         Irrläufer extern   \n",
       "719                         Irrläufer extern   \n",
       "720                         Irrläufer extern   \n",
       "\n",
       "                                             NewColumn  \n",
       "0    Sehr geehrte Damen und Herren, Ich habe eine k...  \n",
       "1    Von: falk schuster < Email_ersetzt > Gesendet:...  \n",
       "2    Sehr geehrte Damen und Herren, als Kunde der F...  \n",
       "3    Hallo vorheriges Jahr wurde mein Vertrag bei E...  \n",
       "4    Sehr geehrte Damen und Herren,  zu den von mei...  \n",
       "..                                                 ...  \n",
       "716  PER, habe mit einer Mitarbeiterin von Ihnen te...  \n",
       "717  Sehr geehrte Damen und Herren, ich hätte eine ...  \n",
       "718  Guten Tag, neue Faxnachricht vom:  Datum_erset...  \n",
       "719  Guten Morgen, neue Faxnachricht vom:  Datum_er...  \n",
       "720  Guten Abend, neue Faxnachricht vom:  Datum_ers...  \n",
       "\n",
       "[721 rows x 2 columns]"
      ]
     },
     "execution_count": 112,
     "metadata": {},
     "output_type": "execute_result"
    }
   ],
   "source": [
    "df_new5"
   ]
  },
  {
   "cell_type": "code",
   "execution_count": 113,
   "id": "36412ed2-ab96-4dbc-8581-1cb1fbcaa630",
   "metadata": {},
   "outputs": [
    {
     "data": {
      "text/html": [
       "<div>\n",
       "<style scoped>\n",
       "    .dataframe tbody tr th:only-of-type {\n",
       "        vertical-align: middle;\n",
       "    }\n",
       "\n",
       "    .dataframe tbody tr th {\n",
       "        vertical-align: top;\n",
       "    }\n",
       "\n",
       "    .dataframe thead th {\n",
       "        text-align: right;\n",
       "    }\n",
       "</style>\n",
       "<table border=\"1\" class=\"dataframe\">\n",
       "  <thead>\n",
       "    <tr style=\"text-align: right;\">\n",
       "      <th></th>\n",
       "      <th>Value_Ebene2</th>\n",
       "      <th>Text</th>\n",
       "    </tr>\n",
       "  </thead>\n",
       "  <tbody>\n",
       "    <tr>\n",
       "      <th>0</th>\n",
       "      <td>Strompreise</td>\n",
       "      <td>Sehr geehrte Damen und Herren, Ich habe eine k...</td>\n",
       "    </tr>\n",
       "    <tr>\n",
       "      <th>1</th>\n",
       "      <td>Strompreise</td>\n",
       "      <td>Von: falk schuster &lt; Email_ersetzt &gt; Gesendet:...</td>\n",
       "    </tr>\n",
       "    <tr>\n",
       "      <th>2</th>\n",
       "      <td>Strompreise</td>\n",
       "      <td>Sehr geehrte Damen und Herren, als Kunde der F...</td>\n",
       "    </tr>\n",
       "    <tr>\n",
       "      <th>3</th>\n",
       "      <td>Strompreise</td>\n",
       "      <td>Hallo vorheriges Jahr wurde mein Vertrag bei E...</td>\n",
       "    </tr>\n",
       "    <tr>\n",
       "      <th>4</th>\n",
       "      <td>Strompreise</td>\n",
       "      <td>Sehr geehrte Damen und Herren,  zu den von mei...</td>\n",
       "    </tr>\n",
       "    <tr>\n",
       "      <th>...</th>\n",
       "      <td>...</td>\n",
       "      <td>...</td>\n",
       "    </tr>\n",
       "    <tr>\n",
       "      <th>716</th>\n",
       "      <td>Rechtsmittel und Handlungsmöglichkeiten</td>\n",
       "      <td>PER, habe mit einer Mitarbeiterin von Ihnen te...</td>\n",
       "    </tr>\n",
       "    <tr>\n",
       "      <th>717</th>\n",
       "      <td>NaN</td>\n",
       "      <td>Sehr geehrte Damen und Herren, ich hätte eine ...</td>\n",
       "    </tr>\n",
       "    <tr>\n",
       "      <th>718</th>\n",
       "      <td>Irrläufer extern</td>\n",
       "      <td>Guten Tag, neue Faxnachricht vom:  Datum_erset...</td>\n",
       "    </tr>\n",
       "    <tr>\n",
       "      <th>719</th>\n",
       "      <td>Irrläufer extern</td>\n",
       "      <td>Guten Morgen, neue Faxnachricht vom:  Datum_er...</td>\n",
       "    </tr>\n",
       "    <tr>\n",
       "      <th>720</th>\n",
       "      <td>Irrläufer extern</td>\n",
       "      <td>Guten Abend, neue Faxnachricht vom:  Datum_ers...</td>\n",
       "    </tr>\n",
       "  </tbody>\n",
       "</table>\n",
       "<p>721 rows × 2 columns</p>\n",
       "</div>"
      ],
      "text/plain": [
       "                                Value_Ebene2  \\\n",
       "0                                Strompreise   \n",
       "1                                Strompreise   \n",
       "2                                Strompreise   \n",
       "3                                Strompreise   \n",
       "4                                Strompreise   \n",
       "..                                       ...   \n",
       "716  Rechtsmittel und Handlungsmöglichkeiten   \n",
       "717                                      NaN   \n",
       "718                         Irrläufer extern   \n",
       "719                         Irrläufer extern   \n",
       "720                         Irrläufer extern   \n",
       "\n",
       "                                                  Text  \n",
       "0    Sehr geehrte Damen und Herren, Ich habe eine k...  \n",
       "1    Von: falk schuster < Email_ersetzt > Gesendet:...  \n",
       "2    Sehr geehrte Damen und Herren, als Kunde der F...  \n",
       "3    Hallo vorheriges Jahr wurde mein Vertrag bei E...  \n",
       "4    Sehr geehrte Damen und Herren,  zu den von mei...  \n",
       "..                                                 ...  \n",
       "716  PER, habe mit einer Mitarbeiterin von Ihnen te...  \n",
       "717  Sehr geehrte Damen und Herren, ich hätte eine ...  \n",
       "718  Guten Tag, neue Faxnachricht vom:  Datum_erset...  \n",
       "719  Guten Morgen, neue Faxnachricht vom:  Datum_er...  \n",
       "720  Guten Abend, neue Faxnachricht vom:  Datum_ers...  \n",
       "\n",
       "[721 rows x 2 columns]"
      ]
     },
     "execution_count": 113,
     "metadata": {},
     "output_type": "execute_result"
    }
   ],
   "source": [
    "df_new5.rename(columns={\"NewColumn\": \"Text\"})"
   ]
  },
  {
   "cell_type": "code",
   "execution_count": 114,
   "id": "2ed174b9-2cb4-4d90-bcfb-7d4fa58a66dd",
   "metadata": {},
   "outputs": [
    {
     "name": "stdout",
     "output_type": "stream",
     "text": [
      "File saved at: /home/ec2-user/SageMaker/preprocessed_data_level3.csv\n"
     ]
    }
   ],
   "source": [
    "# Save the DataFrame as a CSV file in SageMaker's local storage\n",
    "csv_file_path = \"/home/ec2-user/SageMaker/preprocessed_data_level3.csv\"\n",
    "df_new5.to_csv(csv_file_path, index=False)\n",
    "\n",
    "print(f\"File saved at: {csv_file_path}\")"
   ]
  },
  {
   "cell_type": "code",
   "execution_count": null,
   "id": "6873808e-a8c5-4bea-8c9b-3ae4443b2be6",
   "metadata": {},
   "outputs": [],
   "source": []
  }
 ],
 "metadata": {
  "kernelspec": {
   "display_name": "conda_python3",
   "language": "python",
   "name": "conda_python3"
  },
  "language_info": {
   "codemirror_mode": {
    "name": "ipython",
    "version": 3
   },
   "file_extension": ".py",
   "mimetype": "text/x-python",
   "name": "python",
   "nbconvert_exporter": "python",
   "pygments_lexer": "ipython3",
   "version": "3.10.16"
  }
 },
 "nbformat": 4,
 "nbformat_minor": 5
}
